{
  "nbformat": 4,
  "nbformat_minor": 0,
  "metadata": {
    "colab": {
      "provenance": []
    },
    "kernelspec": {
      "name": "python3",
      "display_name": "Python 3"
    },
    "language_info": {
      "name": "python"
    }
  },
  "cells": [
    {
      "cell_type": "markdown",
      "source": [
        "**Topic**"
      ],
      "metadata": {
        "id": "Vdr6HPPosyQX"
      }
    },
    {
      "cell_type": "markdown",
      "source": [
        "*Hand Written Digit Prediction - Classification Analysis*\n",
        "\n",
        "---\n",
        "\n"
      ],
      "metadata": {
        "id": "ynMnZYlgs4WQ"
      }
    },
    {
      "cell_type": "markdown",
      "source": [
        "**Objective**"
      ],
      "metadata": {
        "id": "geT-u-JFs9S7"
      }
    },
    {
      "cell_type": "markdown",
      "source": [
        "The digits dataset consists of 8x8 pixel images of digits. The images attribute of the dataset stores 8x8 arrays of grayscale values for each image. We will use these arrays to visualize the first 4 images. The target attribute of the dataset stores the digit each image represents"
      ],
      "metadata": {
        "id": "5lw9QBaMtEEL"
      }
    },
    {
      "cell_type": "markdown",
      "source": [
        "**Data Source**\n",
        "\n",
        "*ybi foundation github dataset*"
      ],
      "metadata": {
        "id": "kmSchvAYtRzl"
      }
    },
    {
      "cell_type": "markdown",
      "source": [
        "**IMPORT LIBRARY**"
      ],
      "metadata": {
        "id": "skFDPUw4tdzT"
      }
    },
    {
      "cell_type": "code",
      "source": [
        "  import pandas as pd\n",
        "  import numpy as np\n",
        "  import matplotlib.pyplot as plt"
      ],
      "metadata": {
        "id": "29DL7_7StqJx"
      },
      "execution_count": 147,
      "outputs": []
    },
    {
      "cell_type": "markdown",
      "source": [
        "**IMPORT DATA**"
      ],
      "metadata": {
        "id": "fWHSFpB6t9oA"
      }
    },
    {
      "cell_type": "code",
      "source": [
        "from sklearn.datasets import load_digits"
      ],
      "metadata": {
        "id": "NhHJL_rduE4G"
      },
      "execution_count": 148,
      "outputs": []
    },
    {
      "cell_type": "code",
      "source": [
        "df = load_digits()"
      ],
      "metadata": {
        "id": "ABLYTeMnuTpW"
      },
      "execution_count": 149,
      "outputs": []
    },
    {
      "cell_type": "code",
      "source": [
        "_, axes = plt.subplots(nrows=1, ncols=4, figsize=(10, 3))\n",
        "for ax, image, label in zip(axes, df.images, df.target):\n",
        "    ax.set_axis_off()\n",
        "    ax.imshow(image, cmap=plt.cm.gray_r, interpolation='nearest')\n",
        "    ax.set_title('Training: %i' % label)\n"
      ],
      "metadata": {
        "colab": {
          "base_uri": "https://localhost:8080/",
          "height": 227
        },
        "id": "Z-jQ1oOYuml3",
        "outputId": "d4f5b1f4-d6eb-4cc9-ae51-68db79e0d4dc"
      },
      "execution_count": 150,
      "outputs": [
        {
          "output_type": "display_data",
          "data": {
            "text/plain": [
              "<Figure size 1000x300 with 4 Axes>"
            ],
            "image/png": "[encoded data removed]"
          },
          "metadata": {}
        }
      ]
    },
    {
      "cell_type": "markdown",
      "source": [
        "**DATA Processing**"
      ],
      "metadata": {
        "id": "pVBfRn1wvEHf"
      }
    },
    {
      "cell_type": "markdown",
      "source": [
        "![image.png](data:image/png;base64,iVBORw0KGgoAAAANSUhEUgAAAdoAAAEECAIAAAAAsmKnAAAgAElEQVR4AeydB2CURfr/gwhiOT3L3f2uqXfeWU9URJAWSNuEUEVAQBEERFqSbSmk0kIRxXZ6NiyAlPTQIaRXCEhR6aEG0nez9W0z8/z/M28SETgusImbkMk997hs9n3n3c9Mvu+8zzwz40H4DyfACXACnEAbIODRBq6BXwInwAlwApwA4XLMGwEnwAlwAm2CAJfjNlEN/CI4AU6AE+ByzNsAJ8AJcAJtggCX4zZRDfwiOAFOgBPgcszbACfACXACbYIAl+M2UQ38IjgBToAT4HLM2wAnwAlwAm2CAJfjNlEN/CI4AU6AE+ByzNsAJ8AJcAJtggCX4zZRDfwiOAFOgBPgcszbACfACXACbYIAl+M2UQ38IjgBToAT4HLM2wAnwAlwAm2CAJfjNlENrXcRgMl1GSEEw9Wt9S6Sn5kT4AQI4Su63SytAC75EUURYwwABGFQwFJeAzKADPYKE8iAzE76TyemXiAg0l/JdXZwIBAxARCwUl5daREcCAABmKwWBKAAIQAEwGq3EQCnKBAAh+AUBAEAbDabLMsAoHpBEBBCTf8EgLq6uqYLNJlM6muz2QwADZd6s1QE/x6cwA0T4L3jG0bXtg6k4ksFk/7Isqy+Fp2CtbYeMDhqLVXnKwDB2ROnAcHFM+VSvUOwOBQr+wAC5JQFkw0w1NttFsGhUP2F81UVIkEiUmrrzambNh45cbx4d4mp3rz6uzUyUggABlJfXy9JEsZYkiSZ/QCAqsXqxZw/fx4hpEqwyWQSRREAysvLnU6nepFVVVXqxbctoPxqOIFfnQCX418deesUeKkINqlhndnUc0BfAeDz7759ZeqkcnONALQ3fKkvq7pgxZIAYAdFBBAJEhS53m5DAHZRcEgiAVj93ZoXevd6863pOoPearcNGTb0pyOH1c4yAIiiaLPZFixYAABnzpyJj4+vqKhQNVdV5CYvy7Kqy6oo19fXI4QkSRIEoXWo8LNyAu2JAJfj9lRb17hWAFAURe1vqh4hdL7iYuD40Um523v4D6oiDgvAZynfDRg1xLhsXhURvkxfH7Z80eTQOd+fPzlsyvjghdHvfPFJjdlUU1MTEhISGRlptVrVQMSyZcsWLY63Ox0E4MChgyNHvUQAlr/7zoxZMydOnPj/FTkiIsLDwyM+Pn7dunUPP/zw+PHjz507d/r06QkTJsTExPzwww91dXWzZ89+7733YmNji4uL7XZ7XV2dGtmor6/nveNr1Cz/VcchwOX4JqlrVY7VOKzaG5Vl+Uz5+T4BXl3/dI8ZZCsoy7/+pN8I34Kj+98InbXz+8KV6WvveeRP+Uf2fn/uWDWxJeVse86zt9lsHjdq9IfvrKi5UEFDxTQkQdZ9t/all15KTk7Ozc87deb0G29Ou1hd9ePRI2fPn5szZ878+fOtVqu3t7fVav3pp5+8vLzKysrKy8sHDx588ODB2NhYVbL/+c9/ZmZmfvDBB6NGjVKv8OLFi+oLu91+k1QD/xqcgAsEuBy7AK8tHXpp71jVOEVRyi+e9/TznK59a8E7i2octVPmTHv1zdcmvjXptekT16Vv2J63I2xehATyiQtlo18fM+/tBc+/2MNWV3eouHSEb8CS2PnI5jxfdhowrHh7+QvP99ywYcMXK7+sqqmePG0qAlizfl2QTjt85Ijg4GCr1frSSy8JgoAxHjt2rCRJP/3001//+tfly5cbjcZFixbt379/8ODBAHDs2LFXX30VANQxQACoqKhACLUllvxaOAH3EOBy7B7uLV7qpbFjtY+MMa6rqnxl2JDTB7/37/Oitfzs2k//M/PVcaDItadOgCKvmBcTqw35/xHjOJ1WO2USKPKgHs/tzcyxnq8EBSa9/MrXH/0HFBBMls8++jgmKpoOvgEcOXbUy8+3oqb6z397yClLi5cuCQoKAoA+ffpYLBZJkgYMGFBWVnbs2DEfH5+9e/eqynv48OEZM2bIsnz8+HE/Pz+TyaSON0qSxCMVLd4Y+AnbKQEux+204i6/7KaMsSZdJoRYa2uDxk8Ap1hevDto5CiwORa9NXPe1Dff0xvJ2fOVpfuWB2uhospx9LjxlfGL3pr5RsAQsIsJn32tm/JW1Byd+XwFOGWQcFpC0leffyHLstlsJgAvvzIWAbz/yb9feXWCJsB/48aNtbW106ZNMxqNZrM5JiZm2rRpVVVVK1eunDRp0pQpU3JycqqrqydNmiRJUnZ2dnx8PAA4HA71mtVhvcu/D/83J9DxCHA5vknqXFEUNUYhSZKaWSGKYu358gul39eU7L3STKX7r7SavQfPlB44XFh6KL+k7PsfqBzbRZAwyAgUpP4oGEnMREJfyEhRFEWWZVEUBUFwOp0Oh8Nut6sZF/X19VarVb02RVF4jPgmaW38a7QOAS7HrcP1Vz9rU3JbkxwrimKprKr+8XD9oR/rD17urT8ctf54+DJv/ulofdnZymOnzh85UVV21lltAocEEgJJIQhjjBGhJjOTgL5QU53pXD72gxCTZ3ZvIISIoqiGI5rC2b86GF4gJ9BuCHA5bjdVde0LbcqpaJJjQojTagFRAMEJwhVeFOmvLvciCBI4JGITiEOkQozpZA81v6Jp/rQCpMkaZp6octsMf+1vwX/LCXRkAlyOb5LaV5WQECLLclNPmSb2EgSk2R4jprxMglUVZolu9E32o2a+qZOnEVNphFi3mXWN1XznpitpOIZNF2z61U2Cm38NTqAVCHA5bgWo7jhlkwgqitLUU6aLS8iSUxGa62VJFEV1OgkhBCGkznum7zDxvdLLskyDxwoNLWOM1a9+WdYdjXKw3/IkCnc0DV5muyHA5bjdVFVzLlQN4F4qx0092Wa+cMqSiBSFdqrpskFNKwddKcQNPeXG3rF6eU094qZraHqn6YbRnC/CP8MJdEACXI5vkkpX0x6a+qfqC9pLldBVDSvkSkNIVWG6flCTXarjVxHlS/hdprxX/rPp8i45iL/kBDiBBgJcjm+SpqBGDNQ+KSFE/Sdd6bhJVi97oY7RXeYJXVFTBiJgRcCKTLACRCZY7S9ffR3kpg75L1805Vo0ibIa175JcPOvwQm0AgEux60AtS2dsqXWnsd0/U7+wwlwAq1IgMtxK8Llp+YEOAFOoPkEuBw3nxX/JCfACXACrUiAy3ErwuWn5gQ4AU6g+QS4HDefFf8kJ8AJcAKtSIDLcSvC5afmBDgBTqD5BLgcN58V/yQnwAlwAq1IgMtxK8Llp+YEOAFOoPkEuBw3nxX/JCfACXACrUiAy3ErwuWn5gQ4AU6g+QS4HDefFf8kJ8AJcAKtSIDLcSvC5afmBDgBTqD5BLgcN58V/yQnwAlwAq1IgMtxK8Llp+YEOAFOoPkEuBw3nxX/JCfACXACrUiAy3ErwuWn5gQ4AU6g+QS4HDefFf8kJ8AJcAKtSIDLcSvC5afmBDgBTqD5BLgcN58V/yQnwAlwAq1IgMtxK8Llp+YEOAFOoPkEuBw3nxX/JCfACXACrUiAy3ErwuWn5gQ4AU6g+QS4HDefFf8kJ8AJcAKtSIDLcSvC5afmBDgBTqD5BLgcN58V/yQnwAlwAq1IgMtxK8Llp+YEOAFOoPkEuBw3nxX/JCfACXACrUiAy3ErwuWn5gQ4AU6g+QS4HDefFf8kJ8AJcAKtSIDLcSvC5afmBDgBTqD5BLgcN58V/yQnwAlwAq1IgMtxK8JtzqkBE2oEEYIwNBg7EAD/bOwd+hkCMpCOYvT70h8gpBEFanjB3iQYqKmfUXGp/+CeE2iPBLgcu7PWqBDLBBQEWCYgKSDIICggYyBIBuwAkAEk5gkoWCQgAjgAbB3GBEQUhIEoDIIIIABlIAEQEGXJ4rRSdgoGwt5kYu3OGuVlcwIuEOBy7AI8lw9tkGNZlWNBBocIDhkkDIgKsQLgpAIkWiQAsEtWAVswtgHqKIawQyCCgBVFBqLeiRyMiQgAgECxKFYJFKvTocjgrEeKg/adXa4WfgJOwD0EuBy7h7taKpNjoB1kjDBITI4FmXaTkSwQUABZqOqINvoPBZwKOBHtF3YUQ7QrLIr0WytUgDGlQT1gkdhFcNjALILTgRyEybP6W3fWKC+bE3CBAJdjF+C5fChVFpkZJgrIIggCCCLIChCMqPQ4zQJgqKurUUAwo8o6udKGJJtCOohZsVAH1TVwwUKq7ahOkC2iZBFlswPVWnCFAHUOqLNBnQPXy0iQHQoVbd47drlZ8hO4iwCXY3eRp+VSOVao7BI6QocEkJjJMhCbXQQMFrOdBkmJ3YprrVBlggor2KwgdhAzg6UWztVAWT2cs0G5AJUSMydctMAZO5Tb4WKlUiaBhUaSnYJMobmzQnnZnIArBLgcu0LP1WOb5JgO6QERQHaCLAASgTgFBQjYbA4CigObcg5sKTy1LfNI2taDKVsPpm09uLEj+E0/JKQdW5l2/PPNR1Zu++nbjENrdjHL+GH1hoIPth76euP3X6UUrKx0nkRgp+N9NBfF1Urhx3MC7iLA5dhd5Fm5LBhKECgsZ8IJyEn7yFSO1RixpMgCth2vPDhr3mtBb7/2aqxm8pKAyUt8Jy/RdAT/+jLvCe96jl/Rf+LyQW8s85m+2P+teGrTF/tNXug1e8XQaYsDp88bmf/jRpPjPBCJJgpyOXZri+aFu0KAy7Er9Fw+tlGOZZbB5QTC5JiIQESErTaHgkUF7Hao0i6fMn9NsOHLcXM3jJmbMHxuwoiO4MOShhvTRhpTX4pIHhOV+Erc+gnz11GLWz9+Ycrri1Inaz8d9dbiYbtPbXNABR32w4jLscuNkp/AbQS4HLsNPS2YJhgDxnQ8T6AZXMRJQxZ0mgcBQHQ8T3SAuVI5oVsxOezLN8K/m2BMCDAkDzQkeXUEr0/2Ckr1CUrR6JMCjAlDw9cPncssfP1Q43eDo5JeDl89dvrbQ/OPp4lQi7ADkMLl2K0NmhfuEgEuxy7hc/lgOqtMlWOxUY7FRjnGWEHgdEBdBT4W8t5E41evh60ba0jU6FMGdBDTpg6Yk+Y1J81Hm+xnSNSEJajmZ0z00673iUgZafzu5WnLA3JOpAhQoxAHQTxU4XKT5CdwHwEux+5jT0tmaRWYplewGWdEACTTMSmaR6vKsQA1FfhIyPuvGr+eYFw/Vp8YqE326yAWkuIzJ81nTppXSIqPPomqsDHRx5DkRXvNiYPC0obq142Y8q4m+2SSE2olImDM5di97ZmX7hIBLscu4XP5YJYny+SYzTtDIn3epjEM+j+sYOJkcnw45P3x+q8nGKgcD9MmBXYQC0kOmJPqNyfNh8pxso8hSdXigbTXnNTfsDFQt37Y5BWazLIUO9SKIGKedOxyi+QncCMBLsduhE+LVnOzMFVhWTVCw8nsfaSQS+X4m3FUjhNe0icO6yCmTRoalKIJSqVPA/okv0vleFZyf92mwdr1wyat0OwqS7GBSSQyXd2CrjfEfziBdkmAy7E7q43JLlvOjS4bJDGT2egeofN9FSrHItRU4sPBH4zXfzPOsGGMPmGEPnFoh7HAkOSAkOQAfVKAIVFjTKSKrE8eGJI6QJXj4A3DJr6n2XkqzQL1TkBcjt3ZmnnZLhPgcuwyQhdOwOSYrh8ERMIgMJN+lmNZAXyZHL9sSAxgnUT1yf0m9/okPxaWGWpIDDQmBBoTNU1yPDO5v3ZTYNCGEa+9H7Dz1EYLWB1AZJp2zHvHLrRIfqhbCXA5did+prwCEAedwkBktrwvosmzCNEZDYrE5LiuEh0Lef9V/TevGDa8RDMrkr3U4azmeTXq6sdir+3NJ/npkzT6JI2RplX4hSX6GJMGGpIHhKQOmJHiGbJp6KzEl159P3AHlWPeO3ZnS+ZltwgBLsctgvEGT8JU2ATYRPMplIb1K2hnGQsgW0CqByxgsJnIWf2Hk8NWvRKaMFyX6B+S5KtL9G2e99MlDA5JHKJLGNoevS7RX5fkqU/uE5bYJyKh99yEFyISXzAk9Q5O7Tcloe+MtKHT1r809t3ArSdSLVAtIRsoMs87vsG2yA9rAwS4HLuzEticjxogtXSWtCrHdE0ywvrLVlAsQCQZ7NX4rPb9ScZvXjZsGBKSODg4yf96bEhwUvs1/zmpnsGpfQxJfcISe0ckvhCW+II+uXdwSv/pqT6zt4yakTR+3AfDdpSl26BaUcwgOdm+Ku6sU142J3DDBLgc3zC6FjiQ9o7BBGCly0IqgBUaqCAY6EQQEAkWMSAHOCuUc8ErJhq+HqXfMFSXOjyk+ZYWGJLuH5Lu004taKPfjM0BMzYFBqcH6NL8jal+xlQfXbpX8Ea/6ama2VtGz0gaP+GD4bvKNjqhBmMLDe807OfUArXDT8EJ/MoEuBz/ysB/WRxded6GQaCdYwQyogkWrKNMk91k+uwNdpAvogva9yeFr3o5InG4LnlYcMowbUrzfOpgbapvcPogbdqg9ujnpGve3DR86qaRb6WPnJM2TJsyRJvqr03VBKVppiZ4z0obPnPd6NfeHZJ5kk6Spo8UWOFy/MsWxv/VnghwOXZnbWEaMxZEQHQXPAwiYp7N0FO3InLSTfFwJakI/eiNmDUvxyUP0a/XaDcE6DYENMsnaHQbNNp262cnBk5NGTE57aVpyS/NTBoWlBgYnKAJTvQJSvIKSvIypA/Vrx81dcXgvJPJCtQCtvMV3dzZmnnZLhPgcuwyQhdOgOlampJAQ8i/kGOhcYNSJ32Ba+HC3A9fXfBNwIJ1nvM2eMUkNN98Yjb4x2wIaKc2NzEwJG1oUPpwXerQ0OTAiCT/qCSfqKSBUcn9o1MGLNikiU0YEvSud/GJ9RgqQLaDxFd0c6E58kPdTYDLsTtroFGOkQgsTIFAYau70RgFwXa2CLIIshmfjH5n2IJPnl/0xaPLVj19Hfbtc8u+6bXs677t1OJXvRi7tlf0up5x3/VcsKZn/OrnF69+ZvGaJxd/9+jCVY+8ve7ZRV/30sc/X3r4KwLnuBy7synzsluCAJfjlqB4o+dgcsw2x6Obl7Lt6+lGTQSDLGDJQRSJJr/ZbfLBuPh+i1c8tOz9u5e8e/uyd25rtt2+bPndy5b/tp3aknfuXrTi9oXv3b5oxZ2L371zyTt3Lnn39iUrbl2y4pb4FZ2Wf/zbJe//OTTywe/3fwSkDBQb27r0RiuDH8cJuJsAl2N31gAGWQaHAgJd2k1he5jSRDcaq8AgCHSDZAVDNZH3JK0ddWjP8COlfY7vfr6s5Jlm29Nlu58s2/14O7XTux8/XfzP08WPnSl66nTRv04XdT9V1P1U8RMnS544XvrksdJeP+7x35TgU3n6S1COgNNMBLrWhztrlJfNCbhAgMuxC/BcPhTTZYMcCo0PI7oEvUSoPiMrQD0BB53XQJekvwBS7ubV/mXFg8pLnqgufMhU8Kdm2/+ZCu81Fd3TTs1SeLc9704h505Hzm/tOb+z5P6hPu8PpvwH6goeqCn6fWXx388W9c5c19t06iOQfwTRqoh8J2mXGyU/gfsIcDl2H3sWlGC9YwfNapMRiDJIDkD1QEwANhlZaJ4bOQvizoxVAy4U9jQX/tGZe4+Sc0dzLbebkttFyevcTg1yPCDTA3apdgtk3kaybkPZt8o5t4p5XW0FD9TmP1G09mlr2QqQD2DRqrBtVNxZo7xsTsAFAlyOXYDn8qFq7FgGgfWOEUgSk2MTENPPvWN8BsStOd/2rs1/ypn/W5zTBbI9mmtZnaDBOrMX7c1nekCGB+xstAymy5kNXx/l3W7Ne7j0u0edZctA2Y9lm6KuFe1yvfATcAJuIcDl2C3YGwpV6NbRshNkrMaOJQSyANgKYJVBshMnDWHQ3vHW3G97mvMek/PuhJxOkOXRbOsEu7rBrjtg113t03ehctxku26FzFtofzmLKjLJvdWZ++d93/1NKFsMaD9SnDJbKdqdNcrL5gRcIMDl2AV4Lh8qA7FQo3FjmhUgs9gxcWBwCICsRJbo6vQXQNye+23P+rx/oLzbqRxfV+84sytk3tFurUtTpIKGKbLuRFm3kcavT/JuEXL/cGDtw9KpeMAHEBZo6JgvsOlys+QncBcBLsfuIk/LFQHMAHV0wI5uYMpWESJs2SDZxt53UJWuAmlXzrcv1Oc9KufdiXK74JzOzbXcTjjXoz1bJ5R9i5xzm5Bztz3nAVvO7+y5vxVzblNyPEiOB867xZn3h+/XPSiejgc4iIgkMoTurFFeNifgAgEuxy7Ac/lQ1juGejpgR3vGdPEgBEAQC2KAma7CAAqdb7Yza9UL9TRY8RuU07W5WpzTGatynOeB26ehPA8l51Yx505H9gP27D/acv5oz/mdmHOnknMLyvXAebc6mBxLZxYDOUhAalgOz+V64SfgBNxCgMuxW7A3FKquWSHQdSFpB7lBkRVCl7Kgq5OJTrAJcBzwpsy1vRz5/4L8+yGnK+R6XIfleUD7tVwPyO5MIy277se7fo93/Qln/g6y7oDsTpDrgXI723J+t/e7P6FTi4AcAMVJd+HmecfubNG8bJcIcDl2CZ+rB1MFtirgcLIOski3zWOqrEiAJFGus0ONEw4DSc/47gVrztM4614lo5OS6aHs8ugIHu1SE906w867yM57yY77yc57IaMrDShneyh5nS25f9iz5q/CyXiQvgfBgUQux642SX68GwlwOXYjfEKoHNuuLsdYlpFZBLMMJwC2Zq3ta8t6Vsm4H+d0ZbFgNSh883vCwsQkqwsdx8u8G2X+hmR1IdkeUqaHmNe1Pv+hPev+6SxbDsqPICPaNea9Y7e2aF64KwS4HLtCz+VjL5NjYOFjmbBl1EUMdhEsMpQB7MheM8Ca+byy8/co+y4ltwvK7dIRPMrtpOR4KDkecraHnNVVzrxDzuqmZHVWsjrZd3jYsu805f2z+LsnLSfeA+UoYfsL8swKlxslP4HbCHA5dht6WjDNcGPLU7DYsfhLORZlswPMNHYs78j+dqBzV2/IeEjKuNuZdbuYeXtH8GJWZ5TvQS3PQ8ntquTchbLvwjldUU5XR8Yt1qz7arKfyl/1nOn4xyCdFEVwKjRBxa01ygvnBG6cAJfjG2fXAkdeIcdsPghSe8eSUi+AFcEZwDmFqwcrmd6w6wnIeojk/hFy/tgRPOTdB/ndoOBWyL8d8u6F3Aeo5dwHufeSnPvF3IdNWb2KVvezn/4G4CLGICAuxy3QKvkp3EWAy7G7yLNymRwTugI9zawQ2CwGuk0TEoCImDgV+vZFQIXZX/jXJ/e3r33YkfxXe8qfHMl/6gjekfKALaWbLfVWW8rttuR7bEn3OZLudSbd40z6jT3lvtrEP59NfC77k76O46uBVALb14oHK9zaoHnhLhHgcuwSPhcPpokUdFHIn+VYAaDLCSEBsKAguwIigUqw5KQs6X/k/cePLrj9WHy3o4u7dhRbcsvxtz2YdTqx7JYTS289ufSWU0s9Ti31OLHM49CSbnvefjg1+qma0s9BugAKCBKfledik+SHu5MAl2N30m+UY7mpd8zkWALsYBs2yQooslIFluLkeQMPLX78XPyfLy75awezn79yxeI/Vy7+Y83iB6qX3Fcef+/FFX8/vLz7xrBn7Xu+AfkiiDyzwp2NmZftOgEux64zvPEzMDmWgMhiY7CCybHQKMeKAhjJdWDelxrr+9PCZy4s+Ef1wseqFz5WM/+JDuEXPFU9v3v1/Ger5z9bM6973bynTPMftcx72Dz/oZq4v9Yu+9fJxX22GXqJJatAvAiiwHYD4UN5N94g+ZHuJcDl2J38qRxjCQjdK0+NHTfKsY31jhUFAEn1UHcoLTrwyPxelfOeqot71hT3rDm2R4fwsb1M0QNM0YNM0QPM0X0s0b2sMc86op+yxzxhjnq8Pr73mYWDMkL6KUVrQCgHwQaIAHZnhfKyOQFXCHA5doWeq8cyOZaB0DnRqhzLQOhKFfhnOcaiFWoPb4occTSuX03Ms+aYnpboXh3EzNF9zFHe5kg/c5S3JWqANaq3I6qHM6q7M6q7Ze7T1oWeZ+f7ZwQPQoVrqRyLFhp253Lsaqvkx7uNAJdjt6Gnace0d0wV5HI5JlYAuu8bAsCiA2qObZo7+njMoJronuaYXh3IovuYoj2besfW6J4OqsVPO6O6m+c+V7/Q+8z8ITuCNVLRBhqskCxAuBy7sz3zsl0kwOXYRYAuHU7lGNEl068hx+AUoLpsc/i4E9GamujeptheptieHcTqYnvVxfapie1TR791D0vs0/aYJxzRTziinzZFPmde6FM2f/i2kMHO4mQQq0G2EYJcqg9+MCfgVgJcjt2Jn8qxwuSY/DJYcUnvmMnx6c3hE05EBdRE9amJ61kz79kOYnQQb16PygXPVi94umb+E6b5/7DM+7s17h/W2Cdqo56pXeR3fMHIzdoh9uI0kGsBOfjeTO5szbxslwlwOXYZoQsnYMEKCbCMMSiNsxjYKsc2BQSFLaYODgkqT28LG3cyyrc26gVTbI+6ed1Ncd07hn+6euFjFYsevRhPrWIRzSqpm/+EKa57ddTztYv8Ti4YvkXr7yjZAMpFTEwySBh4B9mFFskPdSsBLsduxU9n5VmB2Oh/RWYysN1AHBZw2lQ5dmKoPL0rbPTpmP61UU/ZYp9xxDzjjO4Q3hb3pGnRw5VLHixf+s8zy/51aukLZxa/WL6wf+X8/hWRvU0LvM/M890Z1Fso/gyUQwTKJKjBILm1RnnhnMCNE+ByfOPsWuBIkAiYqCJLLLXCyRSZbjLkMIGzvkGOFag8nRU6qiyuT03M49aY7o6oZzuI2WOessx/qG7hQxfjHzsb/2zZ4j6nFw04v8CzMs6zem5vy3yvC7E+mXNekAs/A+lHIOckMHM5boFmyU/hJgJcjt0EXi2WynE9lWOZrVghAEhAgMqxBQQr0LxjcIhQcTIjfPSJuP6Vcd1rY5+ri+koVh/9jCPySUfkk/XRz9TGPl8R16sirhjmahwAACAASURBVFdtzAv1US/Uh/dwxA2siNZkzRyk5K0DRzWRFZqMwrcudWuL5oW7QoDLsSv0XD4WZAxWAjY6nUxqCFaocmylwQq6+Rs4HVBxYlv46MPzfC7Mf+FiXI+q2GerYjqEr4vqIYX1UIw9neE9rXN7mqOeNUf/yxb5hH3uE/awJ8S4vlSOZ/jJORvBJiKBr+jmcoPkJ3ArAS7H7sSPQVbYbiCAgXaQ6Q55Db1jOwhOKscIHFaoOrYpYtyBhUNOL/K8ENezMq57ZeyzHcHXRfWQDX2Irp9s7C2E9bDPfcoe+Q8h8q9S5F+F8AfFeT0qYnwyZ/pJOdvACoqTrnes8PWO3dmiedkuEeBy7BI+Fw/GIMvgkEGgU0IQCxUjwCDJVIsFAQQMEjjroOp4cuTEkvhxR+IHn5vft2Le8x3EamNetIf5CKG+9vABtsgXLNH/ssU84oh50BHzF0vkg7YFPc7F+e6Y7WfP2wYOEEVwIFB4sMLFRskPdx8BLsfuY08IBiSCILJeMCFA+8iYMI0WxAZ5sRNnFVQfWxs9LXvJ9ANLJpQt9CufP6Cj2DzvizHDLsYML4/zL5/vWb6wV8VCmvpWs+Cxi7GPVS7pe3RRQKrWr644DSSrgEDNRXFnjfKyOQEXCHA5dgGey4cqVI5lgXaHUWPCLGIRDEkCUQEnBisWqqC2bGXsrM3LwvLfDjq4+LUj8S8fXTSmI/jD8eMOLH5j35Kp+5a9tn/Z2IPLhv+4LODoEr/jS/x+mu9z7O1Re5ZMWGMcfrE0DXCNA+w2Ovjpcq3wE3ACbiLA5dhN4FmxChCRLjUvyzSILLONpWUMSAEkEQHRmXo2AAvItctCZy0PnvW5Yc632ilrQiauDZ7UEfw3ujc+NU77KGz6x2FTPg2d9Llx4teGCWu0E9YFT9gQ/FqScerq0DejJvif/zGb4Eo7VFqgRuF5x+5s0bxslwhwOXYJn4sHYyrHRKB9ZEmhkWKBKjINYhAZSZhOzKuXUI3delE/a0bQ5Flhb4ZGTZ8bNT28g/iwGXOD5kTOCo6cHTQ3eM5c48y5EW9FRk+LnjclOuIVfdyk8OhpxskjXvnh+xKZ1IlQLUIdl2MX2yQ/3I0EuBy7ET6TXdZBlqny2jA4CO3cAcHAfmQMNgGb66y1b80yTHw9cvKb706cuXL8rG/Gz1rVEfzY2d+MCv5qZMhXo4K/GTNn1YQZ302cvuGNqclvvpEy5dX1s6ZumD39q1Ejw/fsO2XHsgBWCSx8Gog7GzQv2zUCXI5d4+fa0RiIQtPbkAwOBawYbAQkOqCHAAjdNQ/RBYScdZI0VR8/Yea/J4SkjDBkBobmDzEWdBAfGJYbGJY9JDR3uCH/JV3J6ODSMUEHx80+9NqsH6boDkzVZgeO/bBgv9migJ2yqsfs8cK1auFHcwLuIcDl2D3cG0uls8gUKso2DCY2JURSM96wQPeoF4ndCs5yAY83rBg2a80wXbaPoWRA6F5P4/cdwQ8y7PXR7/XV7/HV7/HT7vUP+d4/+Af/oKP+Qcd93vppyJwfRgQV9hv1ScZeoU4GkS7IJPI1NhubFv9v+yPA5di9dUbjEpg6K4ZaDPUEBGAdZjolhHaVxXqQTgswSv+p94xUn5AST92efoY9/fUdwnvq9niH7PUJ3usTUuKtpTZQu9dTe7C/9oc+QYe89Ps12rznx3y8dZ+TDuHRxwoux+5tz7x0lwhwOXYJn8sHUyWmHToqxDUETA1yLLEpIRgUkOsBn1JgRNi3nrN3+ej2++nz/Q1ZAfqsjuADdDlDQ/KHhuQP0eYE6Hf5GXd6he0cEJHVNyK3f3SRT1yxf+SOHq+9s/mQqZoO4QmEWNWxUJfrhZ+AE3ADAS7HboB+SZGXyzFdSUhh61cIVJFlUOqBLhw5wvjVoNk7fPV7AnQ5gfrtHcSG6HYNDckdGpI7RLcrwLDdL3SLV/im/pFb+kRteT5iU9+oTQPnrnv61ZiNB89XI6KAA2jwnaam8B9OoD0S4HLs9loDTBcSqm8MVkg0TCGyBd5kOk/PSaBcgFcMnwbMThxsyNYYszWhmR3FjLkB+hJmBRpjtm9YhlfE9gFRW/vGbH4xKnVgXKJ3zNfPvRG+7ejpOlBkuhhTPUtNcXud8gvgBG6EAJfjG6HWgsdgQuVYgXrl0tix1CjHCEQMFx0w3vDJkNnrh+gzNcZc39A8P2NBR/B+xiI/QymzEvaVc73Dsj3nZg6IzOgTuXlQbLpv1KoekyN3HC430WcJAWimIO8dt2Dz5Kf6VQlwOf5VcV9RWMNQHlvXzYRp7NhBMyvUDrLCescYLjjhFcPng2cnDtbnBeh2+xlKNbp9HcFrdPsaTF+q0e/W6Hf7Gnd7hZYODNs9wFjkG5EfELq114QVGQedFkTzKmich6/odkUj42+0FwJcjt1bUyx2TJMrHApNdDNhsNEEATV8jOhvHQTKnTDWsFIzO32wriSAKtR+je5AR/FMiAN0uwN07Cak3++rP+St/3GQ7oC/cf8QXV6fsZ9nfQ92kQXcJS7H7m3PvHSXCHA5dgmfqweryksX1RRwQ7zCSgj9N50fQlOSwQpwVoDRhlV+s7cG6PY1mHY/fXGze42+VGMo0BhzAwx5Afoipsj7/bSHfXVHvUMOB+h/HBZS0v/lr3NL6YKkNFYh0hk0rlYKP54TcBMBLsduAs+KpR3hxiXnVTlW6Jge3XwTYzovTwZiATgtwMuGNX6zMgK0+5lCldAnd0NH8AW+YRm+4dv9wjLoGKahiEZpdIf8tId9gg8H6g+NCCka8PKXeaUgqtsMSlyO3dmeedkuEuBy7CJAlw6nYWKJGaHJFQrUKmBiawkhRDCivT1kBjglwijDWt9ZmRrdfj9jgV9otl9obkfwNJUiMt0rMtV77kYqyqHZdHBPv89Xf8Bbty8gdM8wXUb/se/l7rcLMgAigCQgyKUq4QdzAu4jwOXYfezVHUB+lmOrArUyk2MFZEQUBFholGO1d6zR7fMNzfMOz/QNy+4I3itih2dUumd0qldkunfEVt+wTN/QAl9Dqa9hn7dud0BYwVDD5r7jl2QdqrbTRZdsAPVA6LMF/+EE2iMBLsfurDXaO1bHoGjvuEGO2epusigLCHC9bLUDlDlB8+ZHI4053rPzfQyFg0JzvYz5HcF7huX0Dd/aN2JL/7CtnsadXvpsL12hl3bPQN2eQfriodElw8I3eU17J7n4qI1GKcwAdTzv2J0NmpftGgEux67xc+1otspCU7DCqoBJhnqZ7dWEAdHeMXE6AM4J4DNp8cjgzd4zMnx1RYMMRd764o7gBxoL+ofl9AvPGWjMGWTI89EV+eh2+2j3eetKn5+y01ub6a9N6TtxybYD5RYAJ5gkVMXl2LUmyY92JwEux+6kT+VYYqN5RMJglcEkUi/TRYQU7BDsiO6Yhy0Aw99cNGnu5tGheYODi3xDSjXB+zqC99GWehn2DjLs9dXtpSu6qYu6hez3D/l+sPHAyzH7X47M7P/au8WnFSuAQxFkbOcrurmzQfOyXSPA5dg1fq4d3ZBZIQOwRDcZ6kWwyUAUQrPcHA4HAacD2c0Yhk8OGzP7yyHTNwwPyh4SVDAkqKgj+MDgIn9tib+2JDCkeGhw4XBmQ4Ppa82srMDgnZoZ67oHRub+aK92gFOim7+6ViH8aE7AnQS4HLuTPpVjhaUE0PWO65kc0xwBTLeUBkR7yU6rs7LSYhr/pmH0tKX+r74/YMzH/cd82n/05x3B9x3zeZ9XVvZ5ZWW/sV8MGPup55hPPcd+MmDsp9TGfz5o4me+Ez96cVjErj0VFbVgtymUJxdkd7ZoXrZLBLgcu4TPxYPp4vMIAMtA1zs2yTRSISmE7gKCZcCCAmDHxIRA/C5l07fJxV8m7F+1+eSqTac6iH27+fRXW85+teXst5tPrdp8fM3mo2s2H121+fi3m09+kvTTf5J//DLth8/WF5+votMXhXqBrsXE5djFRskPdx8BLsfuY08Ik2MEWCI06ViVY1lhU/IEC4CAiFAHNGHAVu+0mwSwA5gVMKOOYiYENZitA43BgsCKsBVhCyJ03xSa1EbNwbayovMYbRZwWgHzvGN3NmletisEuBy7Qs/VY6kcY0RTZWnv2KrQlSsQnY+HmMZgkG01ilglyyZRdlidIBI6iU8GmW2vd/N7EZATFCdIAogSOGWwy2CX6J54ogNQnSSYREkBqKmpofF2m5luyc3l2NVWyY93GwEux25DrxZMFZnuBiIT+qQt0/XI2GZNahgUiMzEWiYEUemmq3ESDKjDeMI2EkTsKyPGR1Zfs/fpwh7qCm70DkZDPIgHK9zcoHnxLhDgcuwCPH4oJ8AJcAItR4DLccux5GfiBDgBTsAFAlyOXYDHD+UEOAFOoOUIcDluOZb8TJwAJ8AJuECAy7EL8PihnAAnwAm0HAEuxy3Hkp+JE+AEOAEXCHA5dgEeP5QT4AQ4gZYjwOW45VjyM3ECnAAn4AIBLscuwOOHcgKcACfQcgS4HLccS34mToAT4ARcIMDl2AV4/FBOgBPgBFqOAJfjlmPJz8QJcAKcgAsEuBy7AI8fyglwApxAyxHgctxyLPmZOAFOgBNwgQCXYxfg8UM5AU6AE2g5AlyOW44lPxMnwAlwAi4Q4HLsAjx+KCfACXACLUeAy3HLseRn4gQ4AU7ABQJcjl2Axw/lBDgBTqDlCHA5bjmW/EycACfACbhAgMuxC/D4oZwAJ8AJtBwBLsctx5KfiRPgBDgBFwhwOXYBHj+UE+AEOIGWI8DluOVY8jNxApwAJ+ACAS7HLsDjh3ICnAAn0HIEuBy3HEt+Jk6AE+AEXCDA5dgFePxQToAT4ARajgCX45Zjyc/ECXACnIALBLgcuwCPH8oJcAKcQMsR4HLcciz5mTgBToATcIHADcgxIiATgpipJQMhQPAvDBPAhL3PPgKY/qcD+EYIhGBAGGRmDWwoMZAJSEBkIAgwAAaGR4XZJjy7Nlq/GJACpMnY12m4woaqZlVMK5p+ifbpG78CIUBrhNYLrRq1zbIKIoCR+isCEm5o+ez3bcVdV7Mh6h9m459nW/kO/DpUAtcrxwiDgMHBvMxO0SBASAa7FRACRQFJAgTglIAA0P/flIYwk6xfegUkJ4gCKIggkBHYFXAg+gdNZRgRCYOFgBmIBZATJKDKjDAmUhsxgkXAVsBWQpwy/SrYAeAA7KS1SitWIQ6FCDIoMoAIIACtaMRquJ16GYMogyRiUNh3Rxai2DGSsQIgA0gEJBEUB+B6BUwS1CMQMVbakP2XxgOgNDUqAAVAQVgUZUHEYJVAQGB1SgSgvr5eURTWL1DvOuqt6GfV5kL5axK4ETlWLpXjxk4xVkCWaXdYIbTyJYA6p82hCLT5EicmN5tHWEDYcblHMqJ/20SU6yR8TkQnHOIxwXlOkWqBmAGqAcoAjgKcAFQOkpUpXg2QyjZj5UDOU4NKgFoCFgVsCtgIvYvUAK4CpRKUKlDMgGwIiwjJgER6a1HaqcdOEewik2PScIsh7AYjI8AyU2QZgN4yRQmcThDFxveaftk2X6h3E/XaqBizP0k7IupNVAIw2QQEYHPYWacJsycAqsjsqZc+2qpH0Qdf/vNrEbgBOVYfwOnDLKuqht4xqz+igFJhLTejagHMJnLeCTVWuMis4ibzNqi0QcVl3gmVGMyKcp7g/QDFADmAs0AqBLQfxN0gFoCyDZSNoGwGMRMcpeDYC0IhSDltxcQscGaCIxOceSAWglQK0vfUxO9BOgjCQXAeBMdP4DgOjlPgOE/Nfhbsp8HWPr2jApAoSKJDcIoI056jAmYEFoA6BeplsElgl8AmN7xfi6EOQx1qM6Zez9W8GcBE6NWa6OMYtVoEtTIcvWAS1N6S1YkARJk+wyqyyOX415Lca5VzvXLcGCL+OTRMb54YkFOx19jKD5wsemdlzNvfzF26yjDvy5lL1+gWr9Iv/tZ489mSVaFX2vJv9f/5RvfFl1PWrRmzc/PY4p2jizeN3JM67kD6pP1pr+9PH79v87B9W/ypbR65P23ivrTJ+zaO37dp9L5NY9uCP5A++lja2BOp4w6nvXpo46TvN03bt2nG9+mzD6YFbX9/VNb7Y/LfH1+wYlLeu2/kvPNm1opZ2SuCst+dlfvujHZq298LSftm2YfvL5y/MDY6/u3Itz83LFkVtGjtnPjkkKVp2iVpuiVJhiVJxsVJhsVpusWbtEvStUtTtEsTtEuT2opftl67bJ32Cq9fnqBdti5k6TrtsnX65Qn65RtClq4LiV/50bcpJokGmqyCgmhEAwEBS72Jy/G1ZPLX+t31yjF9iqFjdI0xCjaGQwPKCu1J1P5UkWt8Z0L4x6/oPh4R9JHG8OXwoE9GBn0y6uaz4P+8fKUZPx4e97730nef+frLJ/K29DiW3fPEtqfL0p4rT+93Lr3vmU09T299/OT2v5/c/vcT2588saXXiS19T27pcXLr0ye3PtMW/JnNz5i3vlC/pXft1r6V2zwvbPc5vz3gwtbhVZte2hH9SF7UE7tjeuyJerEkol9RuGfBXO+iSE3RXJ+SiPZqGTGBKR+8FWUc98qEl4e/NnP4tGWaaZ94vvFZ/8lfer75pef0zwZN/4/Xm5/5TP3K943VvpMTfCdv8J6yctC0TwdN/ayt+GmfDJr270FXeO/pn3q9+fGgaZ94vfmx9/RPvad/MnDqxz5vLHk9ZP5FiyACiJgG/WU6XgtOh43L8a8ludcqp0XkWFbAUSueM0HZvgtbZiwOjFk9Lnr9y5GJI+I2jjGsH2lYN8qwbvRN5o3rxxjXv3yZj1o7NP6rPu9/9vekDX/6qfAxy8HHHUUPChkPkV2PSTv+4cx4yJb9QH3uPXX5v6nNe6A256G67EfMOX+pz/m/NmL2zP9DO/9MdvxVznhQ2PV3+67HbLu6O3b0lLf2O7jw9ycX/f1CfPeKhS+Ux/U+G9v37Lz+5QsHli8ceGFBe7UjSwJKvpr2TvS4yZMmjJka87J2/VB9hp82y8+Q5a3f7GVI8TIme+vTfLXb/INyBs/aPXhWsSZop2/IJk3w5rbiQ9J9temaK3yAbpOfbqMmJN1PtzFAt0mj3+QXnBY4+6uxM2JtNLmHjlPKpCFY8cuhPBqE5LHja6lmq/2uxeTYCdUOKD/uzJ+xfMj8pIkRiSN0GzTaBF99YiCzoTeZ1yUM0SUMvsxHrPeOX/3c8i9+v27dbT/k/da+77dKbhey7TbI+C1k/x5y74eibqSks7Knk7ynq1xyr1J8Pyn6DRTd0Vas8A7I6gqZt0H27STnTpTzW5T9B7LrYdj21OHYW87G3Vc372+WuCdMUU9VRTxZHdm9LuY5c9zz7dfOLep/6D9jPo16KWjamxNnfzjamOtvOORrPBwYc9hnbq5P5M5B0dsHRWf4RBT5Gw8OCzk+THt0sH6vJrTQ31jcZnyhJjTfPzT/Mj84nL6vMeZpQvMHhxcGhBdqjHmB2pRxc+IFoBk/Eku6VGPHXI5bTWCv78TXK8cNGTCXBisIQQoINcJ5B1QeNGW9Ejtw7voJxsSRuuQh+vTB+tQAfWqAMeVm8/okjTZZc5kPTxy4OLH3sq9/v2bdLT/k3iaUdoVcD9jpAdl3wNYusOMWnOkh5Xo48z0c+R6OXA8x20PO8kBZHrhteMj0oJblAdkeJMcD5Xig7C6QcR9sefBIpEd59J2WuAft0Y9awh41hT5qjnjcGvWUI7Y7tZhn2qOvWtD74FKflfoAw9SgyXO+GRqyr8/Moy/OPuo799ig0FzPiG19I7f1idzVP7x4kGF/QNCRwDlHfEO+99aVthnb7a3b7a0vvtL7Gkp9DCXq+76GUl/jbi9tiX9w+ugZCwWAGqusBitUOZZEJw9WXJ9wts6nr1+O6ewA1DB9gf6HJbeB7ASbDWoO1hVOWTZq7vpphoTxwcmj5yQN0SYF6JP8DEl+HcGHJXrNTxywYOVfvku6+3jxvc6SzlTadnrAts6wvRtkUHVWCjzEIg+x0EPK74RyO1O9zmlLlu0BeR5Q4IEKPaQCDyWvE+TeC5mPHJ3ncT7mHlPM3+wxTzmiutsjn7FHd7fGNNmz7HU78zVxvU4s9kkPH/XWyCnTglIGzz48UFvlGXTWS/eDX2i2d8TmAVGb+0bv6BtZMDC0dEjIgaHBBwK0B/z0+9uS7fMzlPrpL/c+2lI/Q6mvbq+3tsRHW+ofus9Xt1czO32y4QOzTIMVNPUNs8k7SJ2P1JR3zIMVraO1zTjr9ckxm6klKWx6EgY6E0s1DEQEwQaWQzWlU5a+Er5upm7D68FJ4+ckjtQnBhqS/AyJmo7gwxL8YpJ8Y1c+ujrpd0eL/yAU3UY7m1SOu8D2u2DXXSi3i1jg4SykpuR2QTldIbsTleNspshtwed4kHwPXOQhFXs4iul1kvx7IfuRn+Z1OhPzu5qYx63RPazRPS1Rz1tielhinrXE9DDH9minviau99mFflsNY2cMf2tq0BbNnBOe2rqBc077afcPNmRowtM9G+Q4b2BYyRBtybCQ3YO1+/z0+zU6qshtw1Mh1uip+F7qfbW7qUzr9nhrS3y1u/1D9/np9nA5boYkuvMj1y3HMggyzaOQ6MBsoxwTAhKRHWD/ofr7qUtenbs2SLdhSnDixDkJo/WJQ42JGmNCQEfwYQkBkYkjor58blXig0eKHnQW3cF6x7fAtm6w417Ydb+Ye5e9oJu9sIuzoIuScxfOvguyu0F2VxqxbRO+C8rtLBd4iCUejhIPa4mHvbCzVPAA5Dz+w7yuJ2P/UhHzjCmmnzm6nynqRVNsr7q4nnWxvWrietfF9m6PvjJuQPn8wB268W8NnzM5eIdPUNkAXY33nOOBISUjdZuHhiZ7zd3cLyqjb2TewPCCobrsEdrsIdoSjb40QEe1r2343Rr97gDd5V4TUqzR7/bXlviEFGlCigOMpf7akoDZqZON7/HesTsV95pl34gci1SO5QY5VifJYlCwKID1p6p9by4eH7l2pmHD69rE8cEJI/WJQw2JAR3EjAmBkQmj537Za1XC344WPegs7kblOMMDdnSFjHuVrN9Z8+81F91lLezmzO+Gsu+GzHsg6y7IuqONGM7uhnK6SQVdheJOthIPS4mHtaizWPB7yHny4Lw7TsT+7UJMr7roQaZoz7rovkyIe9bE9a6m1qc9+op5nuXzhm7XTZw6UvuadsdA7bG+hovewQeHB+eO1qaP0if7hm/vF5n7YmSJZ3jRUH3GSO2OIbqCAH1JgG53W/H6kgB9Eb2YX3qNtihAX+SvK/YLyddoiwKNJf664oDZyVyOr6mHbv7ldcsxnVAKkho+pr1jmkoOQFduECQwH64unrF4VMzayaEbxuqShwUn+bPYMR3y6ghmSAyM3jA6+vNe3214+Hjhn4RiFjvO9ICMzpB1tzP3flPhvXXFd1uKqBxTId51N2TdgbO7tRm7A2fdjXLvlAu7OIs9rMVq7/j3kP3UD3F3nox5pCL6xbpob1P0ICrHcT1r5vWoievFrHd79BXzPM/OH7HZ8MbEUdoxxm0vGn/sFV7mrS0aEbJ9fHDy2JBUv9DcfhGlvSMODQjbN8SQMUK3fbA+T2Mo0hhK2owv0hgK2MX8wvvqCjSGAj99oY8211dXEBBa5KcvDJidyOXYzYp7zeJvQI7pIgUy0BSLBi2mk/oRxjYE1ceqc2YuGRK7blx44mBDindwimdIik9Iil9IiqYjeENiQMyGUXGfP792w59OFv5OLm6MCGd6oJw77Pn31JTcXb37DktRVzGvK2TeARk0sQzndME5bcLTyEnmPST7Hpx/m1To4SjycBZ0RvkPQNaTP8X+5nTUP6sjXzRHeVuiPE1RL5pjnzXFPV0X14NZz/boK+MGnFkwIjX0jXFjtMMjNveI2Pd85I/e+qyXtOmvBiWOD9qo0e/uF3q0V3hZ3/AfA4zZQ/U7Agx5fsaitmQFfsarmI8+z89Y4GvI99bl+ujz/MOKfA35mjkJXI6vqYdu/uX1yjERgQgsh/xnOVaA6jM2YTh3vHrHnCWD5m0YFpHkaUzrGZLaMyhtYFCqT1CqX0fw+iRN7IZhCz57esOG+08X3q2UeDQkTmR7KHmdLUXdqnd3q97TxVLcScrvBLu6QEYXyGJDeTltw9O0trth1z2QexvOb8qsuA92PX405s5zkY/Uzu1lnTvIPneAJeoFa+xTlrjHzHFPU4vt3h595bw+ZQtHJIRPeWl8cEBU2tPRxc/E7vMybh2lTZoYtGHCnK0B2kN9jed6hlX0DivzMxYNNmT6GfN8jUVtyEILfK9m3oY839ACH2O+lz7X25CnCS/yMeb7BXE5drPgXrv4G5FjkS4KS+ft0N4xDVYgwAKQWgRnj9dsa5Lj0NReIakvhKQOZFrs1xG8IclvXoJm4eePJmy493ThbxW1d8wSJ5S8TtbCbjW7qSJbirqI+Z0hqzNkdoLsTji3E+S0kqfdc8xy6ZrjIbsz7OoGmbdDbmfI88B5HpDTCbLvg4zHj0d3Ox/5YG3kc9bIfvbIPrbI560xT1tjn7DEPtV+rWJ+nyPxY9bOnT5q/OyhURt6RGU/F1PSP3TnEP2WsSEbRwdnBGgPDNSXvRh6pm/oMV/jbo0x1ze0wJvJ3/V5YxH9fGv40ALvsDzf0LzLvLchxzssz8eYO9CQ7W3I8Y0o8DHm+gUlTDG8axFpfFH9w6UT8DBNkmJLH6grulHFaFoW+drywX/bsgSuV46RTNfRlBW2DjdNHccy1WKwKbgSQfmJuszg5UMWJk3Ur/aP3jQ8eL1XSJJfcJL/lRaUqLmqBSdo2q/pN3gtSfd5Z83j69bdf3jXvWjPnZDPEt12eqBMD1v2bbV5d1fn312bd6cl9zZ1DoiS1VnOulXJurVVfHZnJauTnO2hZHs0xyvZrDufe4nP7goZEu4saAAAEC5JREFUD8DWfxyN7nQq6ndV0U+Y416wxPWxxvQ2R/Wom/svc/RT5pjH2qmdm9fnyHtvfW586803Ql6a9aF/ZIZnzN6+EaWeYaW+hsIAXW6gNj9AW+inL/YxlPgYin0MhVTmDNk+VON+4X2NOT7GnKt4Q66PMdfXkN9a/r+Uq6FanOOtz/LSZ6lX5a3PCgxOCI7+hBAQBMCYLswtiXQBMLhkp4iW1Rd+tusicN1yzJY1ZtsiANs6AcssemFziBckuLD/7I6Zi0ZEf/t6yBfDo5LH6deNCE95+aoWljzqqhaeNKr9WmTSsLmr+i744tFvVz94aOc/nMV/g7z7IOM22HUXTavIfbAm/5+VBY9WFzxiyv+LNf9+R969Qt4DQu7vW9fUIprl70OF96HC32JmkP87yP0LZD4GO58/HH/fiYV/O7PouYr4/tXxXtULvarmeVbG9ata0LtqwQvt1E4t8jvwQfCX4cEhU4NenfH2SGOKd0Rev4jSAXP3DzIU+Osyh4dsHhmSNjxkc6B2m6+e6q9Gv8Nfv/VKCzBsu5ptD9DvbF0zbL9audsCQ3cEGLZpdFs0ui3qBzS6LcODVo+dPNdipqtyA6ETutStIQSn0rBYboN4XLrDyHXpCf+wSwSuV46JQuPEDbPyWN4x3eWCrdTtRGA+eqE48r3pcSvfCv5wtPHrcbM+HTHz30NnXc1mfjTkqjbrwyHt2D7yD/m3Juqjfp9//WLBpgHnM3rXbH28duPfTVseL9/c/eTW3oe3e/60w/Pwjj7Ht/c4u/WJ89seKd/+SPn2v7Wa/aN825PlW/9VvvXp5vhz2/51fmf38zv/Vb7zyfKdT17c8a+Kbc9Vb+5bk+6TEf3XzMgnciJ7FkT0LY4YQC28b1FY75Kwvu3XciP8tsROWjHr9ZkT3hjzWoRmyocvTlv9wvTEfrM29pu8xmvSSv/X/x0w8UO/1z/xmvRF3zdW9ZmyauDUrwdN/eJK85r25X+xr7ymtapdvVzvN1cOmvrFwCmfD5zy+aCpX3hN+3LglM81r7896c0os8lJu8OY7enCdupx2CUuxy7paAsdfANyTNeCordVNctNTXRDIDitDqH2yJl9/169+JOk+MWrDUsTQ+etnr14TfDiNcFLrvCLVwfFrw66zC9m7yxZFdROjV7/Gu2KtbPWp0wv2D7t8PZxJ9KHnEjVnNw49EDqqN3p4ws2vp6/6fXija+Upo88lOr/Y5r3D+k+hzb6HNro1yo+XXMoPfBQ2tBDacOb4w+mDz+w+SVqW4Yf2DL04OahP2wa+WP6mJ9SX8v/7KX8j8cXfjS54MM3Cj94o+iDScUfvrb7w9f2fDi19P3p7dSKP5hd+Elk8jsx/160ZOHiz0KXpcxYumP6suygFQUhi7cb49MjFiVELEoIi0/RLtk0c9nOGW/vDF62Vbtso27pxsu8ftkm3dubrua36JZt0S9rPX/1co3Lt+jepgs0hyxNV69KuyRdH7925epNanRCEklTpIIuevyLeAXvHbeQvl7naa5Tjglblw/oDkwNcty0CQx78CEgV5jPWOBiLZw1w/kqOGGGMxY4Z4VzzfFWOGdrz2aB8iqoqIELCpwE+AFwAQgZIO4CXAhSESj7AB2kO4MoJSBng7gVhK0g5oFYzPYKaQ1fBFIeLUvKaZ7Po9eGSgDnA2FbmeAsQLmgFNOdQZz7wXYQLIfA8j1Y94C9BGylYP0JLMfbq9UfB+cZsJ0Hh1WRwKzABQnKRagUwSyCTQDRCU4BrCLdR6McUauSoUaCOulyb5LpZ67iJfZ+6/n/Uq5ZoVdYK0K1SK+2Vqav6xxwrry+MUBBF54XnHQBerql5S/kWFURVZSvU1H4x10gcONyjJvmgLANucR6RbLLgImCRQWcIlgFMFuhSgKzDJbmGwILbrcm0e1bwUr3KrUD1IByFqQyQOfoVnhgwnTfOQGDDaCW7keHjwE6AbgasKXVrI4VXQ7QTKsEqGNWzQ45C3Aa4Dx9jS7SjfKkKpAqQDoP8hlAJ0E5BVINiPXt1YQ6sJ0D+0WQHIDpHhl2ADuiGzI1THFCbO1JQjdprWfmILQKJbZ376Werh2sLll5mcfs/db2V5SuAC1XROBEbF1jtg+2oFDZpX1hTIWYLjzvFEVR5nLsgoS25KHXKccsxU0NVvycd0w33GXxC9Z26cpCRHIoFrtsMjuqWH9a3QXx5vcEwIqhnoBTViTRTgQLSDYsOUVJsbNNpOsJ3QdURBhkO4g1VN2QDSOhNU3EqLmGkKwgqjUSRhIRJLA0mgOxfEaW2YjVTbIR3VXOxra4pN2rdvlDFBBMINaC6FAULGM2wxTT4REaWFUcoNgAOYDIMtC7qK0x415doP1Sr+6ZfhVP2Nagre3ZmNxlpWMCCNHtzmnPF2gqhaJgABAEuj+e1WoHAElSMKa5bi0pKvxcN0rgBuSYDuUpbFbeL+IVCiCrotgVwCBLAiYNGw6wLdDxlT//7YJp/mO7NbqRtnpvUoM5bJxEZhsyWxq7VzagvTBCABQJkABA91VvjMA3JoS6751L75kSYGb0bmtXwI7BQcAJtKvoBHDQfbAlus1PuzWF3kNkwE5JdjgFSaD5BSwDV3KCaG64X0p1RLGKWLA0yLFCsEiwdJmnHRUiXeHlhnWE6YZmqCG3t2VfX71c2j8iWL0NCwRLQCSMREV2MgmWAKCmpobegeiNhv78t79H/v6vSeB65RgpIMl0zQqW66a2MEQa5ET9U6b/VPORaSYcZmkYTVvr/c8Xv+aXb42yLr3x0E4w0y8b28pX3dDXCiDQ3HsARQTkxCCzSefq1PMW9w271at71v9PTzuF7NroDZHedGmCucw6i+qDuYDByZ7TnUyRnY3PRZeKePt6zbI1KaWGZz6acyDRHjGqB6WGGqrF2CKB6ADsBEIz7mkFSs3z6p4bMiGIxjBawzf3StRrlug1UCONvjX+CPg5b5DADcixoIADU6MVTNsunQkiUwm+zGhKMmJPfrQ3rfapr+0V1u9W1ydqj57Q+5MISATWgUJEkZhs2Rq7xlbaqaR/QBgrgJxMjumTcRsxOhzbMEFLZncNB6EdYgkDQSxCISsgsRc0oME0SZ2Yqc7QbHdeYbVjZ55N/ad7orMm7QBkBcUMyAyoHhEbk2NFoO2z4aurAJrhZXpTpn8IreOv53pYjckNN4YGXVal+Qblgx/WsgSuT44JXVfTgcHGjP6t0idX+ozWKMpUmtHPRvdtQiLrYTXHsyl/dOIfy25uf57en5AVkAWwlRA7AlGiT/SKA7Cj4W8eSzQIKxLiBGxnqk07pK1ojZ1ctat7bY/p9TsA2WjfENfSYUZSS4cZFTqvlrCbKr3JyoAVNiKEgD2Ms9pX20C78hiQHcDCRvB+KccCnWtKK8iOsUOhYXSJTmFjjwtsdVn63IDZP6/paXeklTsW9CHmmtfw82/Z05r8syjTnj7rs19dmlnQuWX1hp/tmgSuU47p0xbNDWCiTAeZGx/ZGh7Kfo6Usfgv20ZPlWOZyfH/8OoMbHUSdnv0V8ixU6IzUalJIMp0lNuJwU6Incmxk0b3MKZ/sq1kBCMisdF1dYz9f3hMnD9rMakCUsUSP0xUoxXc0IdvGBRQB28xIEnt5rdHj4mkPrjY6M0Sy6AgItFIK6JRYIIVjGl8VcEyImqMjnYRrtPoXayVrbmXhOmULfWpRvVcjq+pjr/6L29AjtW7K61OlvBDg8jMqKSw66dpNKqx7cHV3m7DShfXFtmmvlsz7/bN7xf8Op9kckxDEIBFzP6AJZBUIWYqbAXCDKtCTP/4Mc3FMLPcvtbwVkycmNCLaa7HrHeMTbRfTBW5mq7Vh21UhZpyzNU4K61wiQZn2q1hIjkB22hQWJFoGEbERB2mo4N66j1SoUE4ROjjgAiExl4bW3dTM7/mi1Ydmf75T+2a1/Dzx1Q5VntRjdHkX/SRVQVS+8W8d/xr6/H1yjFrXGwEj7VLtcWqN3/619pg7OmbJtDQESHSKNbqsN7/8K0y3NEaQyhXOyd9OGDPppg9Fkp0pAvL9O/cSYUYW1koww5IwpimVckUlAOR+lYzG8IiQjKiP83yCkY0c5w4FKhXwITARK8NO2iGDGrs5tGVvzBNLSBOlmNAe5Tt0RCVY9EBggQOhdjYXccBiogVxLLEaEeDrleoEHrjUZxs5UJZ3be32Z7lU6h/Ny3uWUJEs6+EDd81DP1d/lx7yRAfaZwSwuW4rctxw16ldMBDVVuW2nX5SBTLhFcwm7xHk72uM8WHRp9Ztnq780yw6KiXOlOAhXJk+kfInugVO1CjcViEaNCHTihANNOttYxlCyvN9nSYriFrjYg05cMhUxNkkGSC5cYOI2IxEEwz3+zXmzlzfV3Ln7t1zez9Xe/HkAQOCSyY1AOuZ9kUNFCOFUJvqMxoHiJ9ppdAsoJsA0yDrcCCrc3yLKMXWtc3+3roNxHY8Kw6SNskyk0RZN47/rUl+NLyrrd3/PNsJbXhs3DEL55i1WQpOjZF08tV+Wa9AhZNZjp7E/+TDnCpSQg0M0zNPWBp9nREEzmZFiu0D42oEFM5VtiEA7l1vCr01yPHIksrZqnEqiJLDeOr7BbLYo2ACA2zsJC0k9026SwDOqrX3jyhHV8HImxWJKqnY7DI9v/au7fVhKEgDKPv/769DmXvHaM9pVgofsq6CQFjnayZ/jQnu8fxvGw97hW6xvHbvCh7uZV4hvJ+seRk/b/H/uSjv3lpnWl0suI2A0Pr98bxpwOZcThzMm+Xo56x0Xjnb8uzn3XyMZmXZmOvxw2rrokwnwJYvx4D4cM29/5Fd9/2+3cR3J4N/HF9FTz/9+E6y7RORl3Olq5e708MHN8yM8oZX1j+hMvZr3FH8Hx841jul0DG4xpjr+aDIeOIbd7Qud+0O9/6fIuja19Xnm9nXq/iP8Tx6yHYIwIECDxeQBw/vgcqIECAwLZt4tgYECBAICEgjhNtUAQBAgTEsRkgQIBAQkAcJ9qgCAIECIhjM0CAAIGEgDhOtEERBAgQEMdmgAABAgkBcZxogyIIECAgjs0AAQIEEgLiONEGRRAgQEAcmwECBAgkBMRxog2KIECAgDg2AwQIEEgIiONEGxRBgAABcWwGCBAgkBAQx4k2KIIAAQLi2AwQIEAgISCOE21QBAECBMSxGSBAgEBCQBwn2qAIAgQIiGMzQIAAgYSAOE60QREECBAQx2aAAAECCQFxnGiDIggQICCOzQABAgQSAuI40QZFECBAQBybAQIECCQExHGiDYogQICAODYDBAgQSAiI40QbFEGAAAFxbAYIECCQEBDHiTYoggABAuLYDBAgQCAhII4TbVAEAQIExLEZIECAQEJAHCfaoAgCBAiIYzNAgACBhIA4TrRBEQQIEBDHZoAAAQIJAXGcaIMiCBAgII7NAAECBBIC4jjRBkUQIEBAHJsBAgQIJATEcaINiiBAgIA4NgMECBBICIjjRBsUQYAAAXFsBggQIJAQEMeJNiiCAAEC4tgMECBAICHwDtsSuniVnJa6AAAAAElFTkSuQmCC)"
      ],
      "metadata": {
        "id": "SKgjHmbovF0N"
      }
    },
    {
      "cell_type": "code",
      "source": [
        "df.images.shape"
      ],
      "metadata": {
        "colab": {
          "base_uri": "https://localhost:8080/"
        },
        "id": "Pi4VgVnVvR1z",
        "outputId": "579885d5-14de-4efb-f0ce-01f0f064569d"
      },
      "execution_count": 151,
      "outputs": [
        {
          "output_type": "execute_result",
          "data": {
            "text/plain": [
              "(1797, 8, 8)"
            ]
          },
          "metadata": {},
          "execution_count": 151
        }
      ]
    },
    {
      "cell_type": "code",
      "source": [
        "df.images[0]"
      ],
      "metadata": {
        "colab": {
          "base_uri": "https://localhost:8080/"
        },
        "id": "Tw31YnHRvdpd",
        "outputId": "e5963817-d57b-44b3-f0f4-aa154285e6d8"
      },
      "execution_count": 152,
      "outputs": [
        {
          "output_type": "execute_result",
          "data": {
            "text/plain": [
              "array([[ 0.,  0.,  5., 13.,  9.,  1.,  0.,  0.],\n",
              "       [ 0.,  0., 13., 15., 10., 15.,  5.,  0.],\n",
              "       [ 0.,  3., 15.,  2.,  0., 11.,  8.,  0.],\n",
              "       [ 0.,  4., 12.,  0.,  0.,  8.,  8.,  0.],\n",
              "       [ 0.,  5.,  8.,  0.,  0.,  9.,  8.,  0.],\n",
              "       [ 0.,  4., 11.,  0.,  1., 12.,  7.,  0.],\n",
              "       [ 0.,  2., 14.,  5., 10., 12.,  0.,  0.],\n",
              "       [ 0.,  0.,  6., 13., 10.,  0.,  0.,  0.]])"
            ]
          },
          "metadata": {},
          "execution_count": 152
        }
      ]
    },
    {
      "cell_type": "code",
      "source": [
        "df.images[0].shape"
      ],
      "metadata": {
        "colab": {
          "base_uri": "https://localhost:8080/"
        },
        "id": "S-WummV_viWg",
        "outputId": "95f537bf-0c7e-4847-fd30-3e6b77a8ada8"
      },
      "execution_count": 153,
      "outputs": [
        {
          "output_type": "execute_result",
          "data": {
            "text/plain": [
              "(8, 8)"
            ]
          },
          "metadata": {},
          "execution_count": 153
        }
      ]
    },
    {
      "cell_type": "code",
      "source": [
        "len(df.images)"
      ],
      "metadata": {
        "colab": {
          "base_uri": "https://localhost:8080/"
        },
        "id": "u-sAT4xwwYmD",
        "outputId": "001ea0b9-796c-462d-a0f0-ceea68337298"
      },
      "execution_count": 154,
      "outputs": [
        {
          "output_type": "execute_result",
          "data": {
            "text/plain": [
              "1797"
            ]
          },
          "metadata": {},
          "execution_count": 154
        }
      ]
    },
    {
      "cell_type": "code",
      "source": [
        "n_samples = len(df.images)\n",
        "data = df.images.reshape((n_samples, -1))"
      ],
      "metadata": {
        "id": "e6UBLwc7wiVy"
      },
      "execution_count": 155,
      "outputs": []
    },
    {
      "cell_type": "code",
      "source": [
        "data[0]"
      ],
      "metadata": {
        "colab": {
          "base_uri": "https://localhost:8080/"
        },
        "id": "tRu5II10wjYa",
        "outputId": "ba90ff05-acdc-4c84-e343-ea401c32ec63"
      },
      "execution_count": 156,
      "outputs": [
        {
          "output_type": "execute_result",
          "data": {
            "text/plain": [
              "array([ 0.,  0.,  5., 13.,  9.,  1.,  0.,  0.,  0.,  0., 13., 15., 10.,\n",
              "       15.,  5.,  0.,  0.,  3., 15.,  2.,  0., 11.,  8.,  0.,  0.,  4.,\n",
              "       12.,  0.,  0.,  8.,  8.,  0.,  0.,  5.,  8.,  0.,  0.,  9.,  8.,\n",
              "        0.,  0.,  4., 11.,  0.,  1., 12.,  7.,  0.,  0.,  2., 14.,  5.,\n",
              "       10., 12.,  0.,  0.,  0.,  0.,  6., 13., 10.,  0.,  0.,  0.])"
            ]
          },
          "metadata": {},
          "execution_count": 156
        }
      ]
    },
    {
      "cell_type": "code",
      "source": [
        "data[0].shape"
      ],
      "metadata": {
        "colab": {
          "base_uri": "https://localhost:8080/"
        },
        "id": "qsWUzgK1wrTw",
        "outputId": "6b6fba5a-1f36-413f-fbbf-ac7009259528"
      },
      "execution_count": 157,
      "outputs": [
        {
          "output_type": "execute_result",
          "data": {
            "text/plain": [
              "(64,)"
            ]
          },
          "metadata": {},
          "execution_count": 157
        }
      ]
    },
    {
      "cell_type": "code",
      "source": [
        "data.shape"
      ],
      "metadata": {
        "colab": {
          "base_uri": "https://localhost:8080/"
        },
        "id": "DTw7OxAwwzIG",
        "outputId": "20752e16-f07e-44b2-a1ae-dd0df889df86"
      },
      "execution_count": 158,
      "outputs": [
        {
          "output_type": "execute_result",
          "data": {
            "text/plain": [
              "(1797, 64)"
            ]
          },
          "metadata": {},
          "execution_count": 158
        }
      ]
    },
    {
      "cell_type": "markdown",
      "source": [
        "scaling image DATA"
      ],
      "metadata": {
        "id": "k8WSqg5Zw8E6"
      }
    },
    {
      "cell_type": "code",
      "source": [
        "data.min()"
      ],
      "metadata": {
        "colab": {
          "base_uri": "https://localhost:8080/"
        },
        "id": "nJn2fTCxw-mw",
        "outputId": "1d9a78f6-f5fc-4422-8c86-50f6af977a53"
      },
      "execution_count": 159,
      "outputs": [
        {
          "output_type": "execute_result",
          "data": {
            "text/plain": [
              "0.0"
            ]
          },
          "metadata": {},
          "execution_count": 159
        }
      ]
    },
    {
      "cell_type": "code",
      "source": [
        "data.max()"
      ],
      "metadata": {
        "colab": {
          "base_uri": "https://localhost:8080/"
        },
        "id": "_qwjkK4lxBDW",
        "outputId": "fd4d2848-f08c-48e7-ffb3-f9f8c276e8a7"
      },
      "execution_count": 160,
      "outputs": [
        {
          "output_type": "execute_result",
          "data": {
            "text/plain": [
              "16.0"
            ]
          },
          "metadata": {},
          "execution_count": 160
        }
      ]
    },
    {
      "cell_type": "code",
      "source": [
        "data = data/16"
      ],
      "metadata": {
        "id": "upriCT7txEAY"
      },
      "execution_count": 161,
      "outputs": []
    },
    {
      "cell_type": "code",
      "source": [
        "data.min()"
      ],
      "metadata": {
        "colab": {
          "base_uri": "https://localhost:8080/"
        },
        "id": "p8u-ibaZxHV0",
        "outputId": "04d09fa6-9b0e-440a-e299-d11690c878d2"
      },
      "execution_count": 162,
      "outputs": [
        {
          "output_type": "execute_result",
          "data": {
            "text/plain": [
              "0.0"
            ]
          },
          "metadata": {},
          "execution_count": 162
        }
      ]
    },
    {
      "cell_type": "code",
      "source": [
        "data.max()"
      ],
      "metadata": {
        "colab": {
          "base_uri": "https://localhost:8080/"
        },
        "id": "EbEYGP65xfug",
        "outputId": "fe5588ce-ef3c-4b5c-b820-fa9565d032b9"
      },
      "execution_count": 163,
      "outputs": [
        {
          "output_type": "execute_result",
          "data": {
            "text/plain": [
              "1.0"
            ]
          },
          "metadata": {},
          "execution_count": 163
        }
      ]
    },
    {
      "cell_type": "code",
      "source": [
        "data[0]"
      ],
      "metadata": {
        "colab": {
          "base_uri": "https://localhost:8080/"
        },
        "id": "KVeAVmnvxker",
        "outputId": "82386911-bc59-4e95-bc7c-f4ae9bcb3b46"
      },
      "execution_count": 164,
      "outputs": [
        {
          "output_type": "execute_result",
          "data": {
            "text/plain": [
              "array([0.    , 0.    , 0.3125, 0.8125, 0.5625, 0.0625, 0.    , 0.    ,\n",
              "       0.    , 0.    , 0.8125, 0.9375, 0.625 , 0.9375, 0.3125, 0.    ,\n",
              "       0.    , 0.1875, 0.9375, 0.125 , 0.    , 0.6875, 0.5   , 0.    ,\n",
              "       0.    , 0.25  , 0.75  , 0.    , 0.    , 0.5   , 0.5   , 0.    ,\n",
              "       0.    , 0.3125, 0.5   , 0.    , 0.    , 0.5625, 0.5   , 0.    ,\n",
              "       0.    , 0.25  , 0.6875, 0.    , 0.0625, 0.75  , 0.4375, 0.    ,\n",
              "       0.    , 0.125 , 0.875 , 0.3125, 0.625 , 0.75  , 0.    , 0.    ,\n",
              "       0.    , 0.    , 0.375 , 0.8125, 0.625 , 0.    , 0.    , 0.    ])"
            ]
          },
          "metadata": {},
          "execution_count": 164
        }
      ]
    },
    {
      "cell_type": "markdown",
      "source": [
        "**Train Test Split Data**"
      ],
      "metadata": {
        "id": "ONVO49hiyGfs"
      }
    },
    {
      "cell_type": "code",
      "source": [
        "from sklearn.model_selection import train_test_split"
      ],
      "metadata": {
        "id": "rEobRL3myKwj"
      },
      "execution_count": 165,
      "outputs": []
    },
    {
      "cell_type": "code",
      "source": [
        "X_train, X_test, y_train, y_test = train_test_split(data, df.target, test_size=0.3, random_state=101)"
      ],
      "metadata": {
        "id": "nxnx0So3yOOO"
      },
      "execution_count": 166,
      "outputs": []
    },
    {
      "cell_type": "code",
      "source": [
        "X_train.shape, X_test.shape,y_train.shape, y_test.shape"
      ],
      "metadata": {
        "colab": {
          "base_uri": "https://localhost:8080/"
        },
        "id": "lLQ2DBpIyYiT",
        "outputId": "6f4c584d-2b35-48df-cec7-9bf938b14c32"
      },
      "execution_count": 167,
      "outputs": [
        {
          "output_type": "execute_result",
          "data": {
            "text/plain": [
              "((1257, 64), (540, 64), (1257,), (540,))"
            ]
          },
          "metadata": {},
          "execution_count": 167
        }
      ]
    },
    {
      "cell_type": "markdown",
      "source": [
        "**Random Forest Model**"
      ],
      "metadata": {
        "id": "z-ZZ5Z8Yyegz"
      }
    },
    {
      "cell_type": "code",
      "source": [
        "from sklearn.ensemble import RandomForestClassifier"
      ],
      "metadata": {
        "id": "38H0CqFHyr2t"
      },
      "execution_count": 168,
      "outputs": []
    },
    {
      "cell_type": "code",
      "source": [
        "rf = RandomForestClassifier()"
      ],
      "metadata": {
        "id": "nl7PMkP1yvB-"
      },
      "execution_count": 169,
      "outputs": []
    },
    {
      "cell_type": "code",
      "source": [
        "rf.fit(X_train, y_train)"
      ],
      "metadata": {
        "colab": {
          "base_uri": "https://localhost:8080/",
          "height": 74
        },
        "id": "VD_45Gl4zQqs",
        "outputId": "edddbb38-8f6a-43fc-8c87-e48cad21782d"
      },
      "execution_count": 170,
      "outputs": [
        {
          "output_type": "execute_result",
          "data": {
            "text/plain": [
              "RandomForestClassifier()"
            ],
            "text/html": [
              "<style>#sk-container-id-4 {color: black;background-color: white;}#sk-container-id-4 pre{padding: 0;}#sk-container-id-4 div.sk-toggleable {background-color: white;}#sk-container-id-4 label.sk-toggleable__label {cursor: pointer;display: block;width: 100%;margin-bottom: 0;padding: 0.3em;box-sizing: border-box;text-align: center;}#sk-container-id-4 label.sk-toggleable__label-arrow:before {content: \"▸\";float: left;margin-right: 0.25em;color: #696969;}#sk-container-id-4 label.sk-toggleable__label-arrow:hover:before {color: black;}#sk-container-id-4 div.sk-estimator:hover label.sk-toggleable__label-arrow:before {color: black;}#sk-container-id-4 div.sk-toggleable__content {max-height: 0;max-width: 0;overflow: hidden;text-align: left;background-color: #f0f8ff;}#sk-container-id-4 div.sk-toggleable__content pre {margin: 0.2em;color: black;border-radius: 0.25em;background-color: #f0f8ff;}#sk-container-id-4 input.sk-toggleable__control:checked~div.sk-toggleable__content {max-height: 200px;max-width: 100%;overflow: auto;}#sk-container-id-4 input.sk-toggleable__control:checked~label.sk-toggleable__label-arrow:before {content: \"▾\";}#sk-container-id-4 div.sk-estimator input.sk-toggleable__control:checked~label.sk-toggleable__label {background-color: #d4ebff;}#sk-container-id-4 div.sk-label input.sk-toggleable__control:checked~label.sk-toggleable__label {background-color: #d4ebff;}#sk-container-id-4 input.sk-hidden--visually {border: 0;clip: rect(1px 1px 1px 1px);clip: rect(1px, 1px, 1px, 1px);height: 1px;margin: -1px;overflow: hidden;padding: 0;position: absolute;width: 1px;}#sk-container-id-4 div.sk-estimator {font-family: monospace;background-color: #f0f8ff;border: 1px dotted black;border-radius: 0.25em;box-sizing: border-box;margin-bottom: 0.5em;}#sk-container-id-4 div.sk-estimator:hover {background-color: #d4ebff;}#sk-container-id-4 div.sk-parallel-item::after {content: \"\";width: 100%;border-bottom: 1px solid gray;flex-grow: 1;}#sk-container-id-4 div.sk-label:hover label.sk-toggleable__label {background-color: #d4ebff;}#sk-container-id-4 div.sk-serial::before {content: \"\";position: absolute;border-left: 1px solid gray;box-sizing: border-box;top: 0;bottom: 0;left: 50%;z-index: 0;}#sk-container-id-4 div.sk-serial {display: flex;flex-direction: column;align-items: center;background-color: white;padding-right: 0.2em;padding-left: 0.2em;position: relative;}#sk-container-id-4 div.sk-item {position: relative;z-index: 1;}#sk-container-id-4 div.sk-parallel {display: flex;align-items: stretch;justify-content: center;background-color: white;position: relative;}#sk-container-id-4 div.sk-item::before, #sk-container-id-4 div.sk-parallel-item::before {content: \"\";position: absolute;border-left: 1px solid gray;box-sizing: border-box;top: 0;bottom: 0;left: 50%;z-index: -1;}#sk-container-id-4 div.sk-parallel-item {display: flex;flex-direction: column;z-index: 1;position: relative;background-color: white;}#sk-container-id-4 div.sk-parallel-item:first-child::after {align-self: flex-end;width: 50%;}#sk-container-id-4 div.sk-parallel-item:last-child::after {align-self: flex-start;width: 50%;}#sk-container-id-4 div.sk-parallel-item:only-child::after {width: 0;}#sk-container-id-4 div.sk-dashed-wrapped {border: 1px dashed gray;margin: 0 0.4em 0.5em 0.4em;box-sizing: border-box;padding-bottom: 0.4em;background-color: white;}#sk-container-id-4 div.sk-label label {font-family: monospace;font-weight: bold;display: inline-block;line-height: 1.2em;}#sk-container-id-4 div.sk-label-container {text-align: center;}#sk-container-id-4 div.sk-container {/* jupyter's `normalize.less` sets `[hidden] { display: none; }` but bootstrap.min.css set `[hidden] { display: none !important; }` so we also need the `!important` here to be able to override the default hidden behavior on the sphinx rendered scikit-learn.org. See: https://github.com/scikit-learn/scikit-learn/issues/21755 */display: inline-block !important;position: relative;}#sk-container-id-4 div.sk-text-repr-fallback {display: none;}</style><div id=\"sk-container-id-4\" class=\"sk-top-container\"><div class=\"sk-text-repr-fallback\"><pre>RandomForestClassifier()</pre><b>In a Jupyter environment, please rerun this cell to show the HTML representation or trust the notebook. <br />On GitHub, the HTML representation is unable to render, please try loading this page with nbviewer.org.</b></div><div class=\"sk-container\" hidden><div class=\"sk-item\"><div class=\"sk-estimator sk-toggleable\"><input class=\"sk-toggleable__control sk-hidden--visually\" id=\"sk-estimator-id-4\" type=\"checkbox\" checked><label for=\"sk-estimator-id-4\" class=\"sk-toggleable__label sk-toggleable__label-arrow\">RandomForestClassifier</label><div class=\"sk-toggleable__content\"><pre>RandomForestClassifier()</pre></div></div></div></div></div>"
            ]
          },
          "metadata": {},
          "execution_count": 170
        }
      ]
    },
    {
      "cell_type": "markdown",
      "source": [
        "Predict test DATA"
      ],
      "metadata": {
        "id": "htmup3X-zmrQ"
      }
    },
    {
      "cell_type": "code",
      "source": [
        "y_pred = rf.predict(X_test)"
      ],
      "metadata": {
        "id": "sElMgctVzql5"
      },
      "execution_count": 171,
      "outputs": []
    },
    {
      "cell_type": "code",
      "source": [
        "y_pred"
      ],
      "metadata": {
        "colab": {
          "base_uri": "https://localhost:8080/"
        },
        "id": "kNafbszcztO-",
        "outputId": "4cc02b47-538b-4506-d9e0-2d4de913fd5b"
      },
      "execution_count": 172,
      "outputs": [
        {
          "output_type": "execute_result",
          "data": {
            "text/plain": [
              "array([7, 4, 7, 9, 1, 7, 5, 7, 1, 0, 1, 7, 1, 6, 6, 8, 4, 9, 7, 0, 7, 7,\n",
              "       6, 0, 2, 3, 5, 0, 0, 2, 4, 7, 0, 4, 3, 7, 1, 3, 6, 4, 8, 8, 9, 9,\n",
              "       7, 9, 8, 6, 4, 3, 1, 3, 5, 8, 1, 4, 5, 5, 4, 1, 7, 2, 4, 4, 5, 8,\n",
              "       0, 8, 1, 0, 7, 6, 7, 8, 6, 5, 1, 2, 0, 6, 1, 0, 1, 9, 1, 2, 6, 8,\n",
              "       3, 4, 6, 4, 1, 3, 2, 5, 7, 1, 5, 0, 0, 6, 5, 0, 9, 8, 1, 9, 3, 2,\n",
              "       7, 1, 8, 4, 8, 2, 4, 1, 2, 1, 3, 8, 9, 3, 1, 6, 9, 8, 3, 2, 7, 1,\n",
              "       8, 9, 5, 2, 6, 5, 0, 3, 4, 0, 5, 0, 1, 1, 7, 4, 8, 6, 1, 3, 9, 1,\n",
              "       4, 9, 5, 1, 7, 6, 7, 3, 0, 7, 3, 4, 9, 9, 8, 9, 6, 1, 0, 7, 7, 4,\n",
              "       8, 4, 4, 7, 5, 9, 7, 9, 8, 7, 0, 4, 7, 4, 7, 1, 0, 4, 9, 4, 5, 7,\n",
              "       2, 2, 4, 2, 3, 3, 5, 3, 9, 8, 4, 3, 4, 5, 2, 1, 6, 9, 9, 5, 7, 5,\n",
              "       5, 7, 6, 2, 4, 6, 7, 5, 1, 9, 2, 2, 9, 6, 5, 2, 5, 3, 6, 8, 8, 5,\n",
              "       5, 1, 9, 6, 0, 5, 1, 3, 8, 8, 4, 4, 4, 0, 5, 0, 4, 7, 8, 2, 2, 2,\n",
              "       5, 9, 3, 9, 3, 5, 6, 4, 3, 2, 6, 1, 1, 7, 5, 2, 1, 1, 2, 1, 9, 5,\n",
              "       5, 5, 4, 4, 9, 4, 9, 8, 0, 7, 4, 3, 4, 8, 8, 3, 4, 8, 0, 6, 9, 5,\n",
              "       0, 2, 0, 8, 3, 7, 8, 9, 8, 0, 3, 8, 1, 7, 5, 0, 7, 8, 2, 8, 1, 2,\n",
              "       0, 1, 6, 5, 2, 0, 5, 1, 5, 3, 7, 7, 3, 4, 4, 0, 0, 9, 1, 4, 5, 3,\n",
              "       8, 4, 2, 1, 1, 4, 2, 6, 8, 7, 9, 6, 0, 3, 7, 8, 1, 4, 3, 6, 8, 0,\n",
              "       9, 6, 8, 8, 3, 8, 7, 3, 1, 7, 5, 2, 7, 0, 6, 8, 8, 4, 6, 4, 5, 4,\n",
              "       1, 8, 5, 0, 0, 0, 6, 4, 1, 9, 6, 1, 9, 4, 3, 1, 2, 3, 8, 3, 5, 1,\n",
              "       4, 3, 4, 1, 7, 5, 3, 2, 9, 5, 1, 1, 2, 0, 6, 5, 0, 3, 0, 2, 0, 5,\n",
              "       8, 7, 5, 6, 6, 9, 5, 8, 8, 6, 9, 6, 3, 8, 7, 7, 3, 9, 9, 0, 2, 9,\n",
              "       5, 3, 3, 6, 7, 0, 8, 4, 7, 5, 3, 7, 6, 4, 3, 2, 9, 1, 2, 5, 3, 4,\n",
              "       0, 3, 5, 4, 4, 8, 2, 0, 2, 2, 7, 6, 0, 2, 2, 0, 3, 8, 4, 8, 3, 9,\n",
              "       1, 5, 5, 3, 9, 0, 2, 2, 4, 3, 8, 0, 6, 6, 1, 9, 3, 8, 5, 7, 2, 7,\n",
              "       2, 8, 9, 0, 7, 4, 7, 7, 6, 5, 2, 9])"
            ]
          },
          "metadata": {},
          "execution_count": 172
        }
      ]
    },
    {
      "cell_type": "markdown",
      "source": [
        "**Model Accuracy**"
      ],
      "metadata": {
        "id": "1XUnx6xdzzst"
      }
    },
    {
      "cell_type": "code",
      "source": [
        "from sklearn.metrics import confusion_matrix, classification_report"
      ],
      "metadata": {
        "id": "bMsbgsFqz3va"
      },
      "execution_count": 173,
      "outputs": []
    },
    {
      "cell_type": "code",
      "source": [
        "confusion_matrix(y_test, y_pred)"
      ],
      "metadata": {
        "colab": {
          "base_uri": "https://localhost:8080/"
        },
        "id": "JrHIrvtTz70e",
        "outputId": "edfda538-9e43-4340-b785-3f251f94c751"
      },
      "execution_count": 174,
      "outputs": [
        {
          "output_type": "execute_result",
          "data": {
            "text/plain": [
              "array([[52,  0,  0,  0,  1,  0,  0,  0,  0,  0],\n",
              "       [ 0, 54,  0,  0,  0,  1,  0,  0,  0,  0],\n",
              "       [ 0,  0, 49,  0,  0,  0,  0,  0,  0,  0],\n",
              "       [ 0,  0,  0, 54,  0,  0,  0,  0,  0,  0],\n",
              "       [ 0,  0,  0,  0, 59,  0,  0,  1,  1,  0],\n",
              "       [ 0,  0,  0,  0,  1, 57,  0,  0,  0,  1],\n",
              "       [ 0,  0,  0,  0,  0,  0, 45,  0,  1,  0],\n",
              "       [ 0,  0,  0,  0,  0,  0,  0, 56,  0,  0],\n",
              "       [ 0,  3,  0,  0,  0,  0,  0,  1, 55,  0],\n",
              "       [ 0,  0,  0,  0,  0,  0,  0,  0,  0, 48]])"
            ]
          },
          "metadata": {},
          "execution_count": 174
        }
      ]
    },
    {
      "cell_type": "code",
      "source": [
        " print(classification_report(y_test, y_pred))"
      ],
      "metadata": {
        "colab": {
          "base_uri": "https://localhost:8080/"
        },
        "id": "aZEth3KB0BjT",
        "outputId": "efcb9e08-6097-48e6-8be1-bae61d8bfff2"
      },
      "execution_count": 175,
      "outputs": [
        {
          "output_type": "stream",
          "name": "stdout",
          "text": [
            "              precision    recall  f1-score   support\n",
            "\n",
            "           0       1.00      0.98      0.99        53\n",
            "           1       0.95      0.98      0.96        55\n",
            "           2       1.00      1.00      1.00        49\n",
            "           3       1.00      1.00      1.00        54\n",
            "           4       0.97      0.97      0.97        61\n",
            "           5       0.98      0.97      0.97        59\n",
            "           6       1.00      0.98      0.99        46\n",
            "           7       0.97      1.00      0.98        56\n",
            "           8       0.96      0.93      0.95        59\n",
            "           9       0.98      1.00      0.99        48\n",
            "\n",
            "    accuracy                           0.98       540\n",
            "   macro avg       0.98      0.98      0.98       540\n",
            "weighted avg       0.98      0.98      0.98       540\n",
            "\n"
          ]
        }
      ]
    }
  ]
}